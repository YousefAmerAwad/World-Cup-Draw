{
 "cells": [
  {
   "cell_type": "code",
   "execution_count": 1,
   "metadata": {},
   "outputs": [],
   "source": [
    "import pandas as pd\n",
    "import numpy as np\n",
    "import random"
   ]
  },
  {
   "cell_type": "markdown",
   "metadata": {},
   "source": [
    "Read the data frame"
   ]
  },
  {
   "cell_type": "code",
   "execution_count": 2,
   "metadata": {},
   "outputs": [
    {
     "data": {
      "text/html": [
       "<div>\n",
       "<style scoped>\n",
       "    .dataframe tbody tr th:only-of-type {\n",
       "        vertical-align: middle;\n",
       "    }\n",
       "\n",
       "    .dataframe tbody tr th {\n",
       "        vertical-align: top;\n",
       "    }\n",
       "\n",
       "    .dataframe thead th {\n",
       "        text-align: right;\n",
       "    }\n",
       "</style>\n",
       "<table border=\"1\" class=\"dataframe\">\n",
       "  <thead>\n",
       "    <tr style=\"text-align: right;\">\n",
       "      <th></th>\n",
       "      <th>No.</th>\n",
       "      <th>Nation</th>\n",
       "      <th>Region</th>\n",
       "      <th>Date qualified</th>\n",
       "      <th>WC apps</th>\n",
       "      <th>Titles (Last)</th>\n",
       "    </tr>\n",
       "  </thead>\n",
       "  <tbody>\n",
       "    <tr>\n",
       "      <th>0</th>\n",
       "      <td>1</td>\n",
       "      <td>Qatar</td>\n",
       "      <td>Asia</td>\n",
       "      <td>Dec. 2, 2010</td>\n",
       "      <td>1 of 22</td>\n",
       "      <td>—</td>\n",
       "    </tr>\n",
       "    <tr>\n",
       "      <th>1</th>\n",
       "      <td>2</td>\n",
       "      <td>Germany</td>\n",
       "      <td>Europe</td>\n",
       "      <td>Oct. 11, 2021</td>\n",
       "      <td>20 of 22</td>\n",
       "      <td>4 (2014)</td>\n",
       "    </tr>\n",
       "    <tr>\n",
       "      <th>2</th>\n",
       "      <td>3</td>\n",
       "      <td>Denmark</td>\n",
       "      <td>Europe</td>\n",
       "      <td>Oct. 12, 2021</td>\n",
       "      <td>6 of 22</td>\n",
       "      <td>—</td>\n",
       "    </tr>\n",
       "    <tr>\n",
       "      <th>3</th>\n",
       "      <td>4</td>\n",
       "      <td>Brazil</td>\n",
       "      <td>S. America</td>\n",
       "      <td>Nov. 11, 2021</td>\n",
       "      <td>22 of 22</td>\n",
       "      <td>5 (2002)</td>\n",
       "    </tr>\n",
       "    <tr>\n",
       "      <th>4</th>\n",
       "      <td>5</td>\n",
       "      <td>France</td>\n",
       "      <td>Europe</td>\n",
       "      <td>Nov. 13, 2021</td>\n",
       "      <td>16 of 22</td>\n",
       "      <td>2 (2018)</td>\n",
       "    </tr>\n",
       "    <tr>\n",
       "      <th>5</th>\n",
       "      <td>6</td>\n",
       "      <td>Belgium</td>\n",
       "      <td>Europe</td>\n",
       "      <td>Nov. 13, 2021</td>\n",
       "      <td>14 of 22</td>\n",
       "      <td>—</td>\n",
       "    </tr>\n",
       "    <tr>\n",
       "      <th>6</th>\n",
       "      <td>7</td>\n",
       "      <td>Croatia</td>\n",
       "      <td>Europe</td>\n",
       "      <td>Nov. 14, 2021</td>\n",
       "      <td>6 of 22</td>\n",
       "      <td>—</td>\n",
       "    </tr>\n",
       "    <tr>\n",
       "      <th>7</th>\n",
       "      <td>8</td>\n",
       "      <td>Spain</td>\n",
       "      <td>Europe</td>\n",
       "      <td>Nov. 14, 2021</td>\n",
       "      <td>16 of 22</td>\n",
       "      <td>1 (2010)</td>\n",
       "    </tr>\n",
       "    <tr>\n",
       "      <th>8</th>\n",
       "      <td>9</td>\n",
       "      <td>Serbia</td>\n",
       "      <td>Europe</td>\n",
       "      <td>Nov. 14, 2021</td>\n",
       "      <td>4 of 22</td>\n",
       "      <td>—</td>\n",
       "    </tr>\n",
       "    <tr>\n",
       "      <th>9</th>\n",
       "      <td>10</td>\n",
       "      <td>England</td>\n",
       "      <td>Europe</td>\n",
       "      <td>Nov. 15, 2021</td>\n",
       "      <td>16 of 22</td>\n",
       "      <td>1 (1966)</td>\n",
       "    </tr>\n",
       "    <tr>\n",
       "      <th>10</th>\n",
       "      <td>11</td>\n",
       "      <td>Switzerland</td>\n",
       "      <td>Europe</td>\n",
       "      <td>Nov. 15, 2021</td>\n",
       "      <td>12 of 22</td>\n",
       "      <td>—</td>\n",
       "    </tr>\n",
       "    <tr>\n",
       "      <th>11</th>\n",
       "      <td>12</td>\n",
       "      <td>Netherlands</td>\n",
       "      <td>Europe</td>\n",
       "      <td>Nov. 16, 2021</td>\n",
       "      <td>11 of 22</td>\n",
       "      <td>—</td>\n",
       "    </tr>\n",
       "    <tr>\n",
       "      <th>12</th>\n",
       "      <td>13</td>\n",
       "      <td>Argentina</td>\n",
       "      <td>S. America</td>\n",
       "      <td>Nov. 16, 2021</td>\n",
       "      <td>18 of 22</td>\n",
       "      <td>2 (1986)</td>\n",
       "    </tr>\n",
       "    <tr>\n",
       "      <th>13</th>\n",
       "      <td>14</td>\n",
       "      <td>Iran</td>\n",
       "      <td>Asia</td>\n",
       "      <td>Jan. 27, 2022</td>\n",
       "      <td>6 of 22</td>\n",
       "      <td>—</td>\n",
       "    </tr>\n",
       "    <tr>\n",
       "      <th>14</th>\n",
       "      <td>15</td>\n",
       "      <td>South Korea</td>\n",
       "      <td>Asia</td>\n",
       "      <td>Feb. 1, 2022</td>\n",
       "      <td>11 of 22</td>\n",
       "      <td>—</td>\n",
       "    </tr>\n",
       "    <tr>\n",
       "      <th>15</th>\n",
       "      <td>16</td>\n",
       "      <td>Japan</td>\n",
       "      <td>Asia</td>\n",
       "      <td>Mar. 24, 2022</td>\n",
       "      <td>7 of 22</td>\n",
       "      <td>—</td>\n",
       "    </tr>\n",
       "    <tr>\n",
       "      <th>16</th>\n",
       "      <td>17</td>\n",
       "      <td>Saudi Arabia</td>\n",
       "      <td>Asia</td>\n",
       "      <td>Mar. 24, 2022</td>\n",
       "      <td>6 of 22</td>\n",
       "      <td>—</td>\n",
       "    </tr>\n",
       "    <tr>\n",
       "      <th>17</th>\n",
       "      <td>18</td>\n",
       "      <td>Ecuador</td>\n",
       "      <td>S. America</td>\n",
       "      <td>Mar. 24 2022</td>\n",
       "      <td>4 of 22</td>\n",
       "      <td>—</td>\n",
       "    </tr>\n",
       "    <tr>\n",
       "      <th>18</th>\n",
       "      <td>19</td>\n",
       "      <td>Uruguay</td>\n",
       "      <td>S. America</td>\n",
       "      <td>Mar. 24, 2022</td>\n",
       "      <td>14 of 22</td>\n",
       "      <td>2 (1950)</td>\n",
       "    </tr>\n",
       "    <tr>\n",
       "      <th>19</th>\n",
       "      <td>20</td>\n",
       "      <td>Canada</td>\n",
       "      <td>N. America</td>\n",
       "      <td>Mar. 27, 2022</td>\n",
       "      <td>2 of 22</td>\n",
       "      <td>—</td>\n",
       "    </tr>\n",
       "    <tr>\n",
       "      <th>20</th>\n",
       "      <td>21</td>\n",
       "      <td>Ghana</td>\n",
       "      <td>Africa</td>\n",
       "      <td>Mar. 29, 2022</td>\n",
       "      <td>4 of 22</td>\n",
       "      <td>—</td>\n",
       "    </tr>\n",
       "    <tr>\n",
       "      <th>21</th>\n",
       "      <td>22</td>\n",
       "      <td>Senegal</td>\n",
       "      <td>Africa</td>\n",
       "      <td>Mar. 29, 2022</td>\n",
       "      <td>3 of 22</td>\n",
       "      <td>—</td>\n",
       "    </tr>\n",
       "    <tr>\n",
       "      <th>22</th>\n",
       "      <td>23</td>\n",
       "      <td>Portugal</td>\n",
       "      <td>Europe</td>\n",
       "      <td>Mar. 29, 2022</td>\n",
       "      <td>8 of 22</td>\n",
       "      <td>—</td>\n",
       "    </tr>\n",
       "    <tr>\n",
       "      <th>23</th>\n",
       "      <td>24</td>\n",
       "      <td>Poland</td>\n",
       "      <td>Europe</td>\n",
       "      <td>Mar. 29, 2022</td>\n",
       "      <td>9 of 22</td>\n",
       "      <td>—</td>\n",
       "    </tr>\n",
       "    <tr>\n",
       "      <th>24</th>\n",
       "      <td>25</td>\n",
       "      <td>Tunisia</td>\n",
       "      <td>Africa</td>\n",
       "      <td>Mar. 29, 2022</td>\n",
       "      <td>6 of 22</td>\n",
       "      <td>—</td>\n",
       "    </tr>\n",
       "    <tr>\n",
       "      <th>25</th>\n",
       "      <td>26</td>\n",
       "      <td>Morocco</td>\n",
       "      <td>Africa</td>\n",
       "      <td>Mar. 29, 2022</td>\n",
       "      <td>6 of 22</td>\n",
       "      <td>—</td>\n",
       "    </tr>\n",
       "    <tr>\n",
       "      <th>26</th>\n",
       "      <td>27</td>\n",
       "      <td>Cameroon</td>\n",
       "      <td>Africa</td>\n",
       "      <td>Mar. 29, 2022</td>\n",
       "      <td>8 of 22</td>\n",
       "      <td>—</td>\n",
       "    </tr>\n",
       "    <tr>\n",
       "      <th>27</th>\n",
       "      <td>28</td>\n",
       "      <td>USA</td>\n",
       "      <td>N. America</td>\n",
       "      <td>Mar. 30, 2022</td>\n",
       "      <td>11 of 22</td>\n",
       "      <td>—</td>\n",
       "    </tr>\n",
       "    <tr>\n",
       "      <th>28</th>\n",
       "      <td>29</td>\n",
       "      <td>Mexico</td>\n",
       "      <td>N. America</td>\n",
       "      <td>Mar. 30, 2022</td>\n",
       "      <td>17 of 22</td>\n",
       "      <td>—</td>\n",
       "    </tr>\n",
       "    <tr>\n",
       "      <th>29</th>\n",
       "      <td>30</td>\n",
       "      <td>Wales</td>\n",
       "      <td>Europe</td>\n",
       "      <td>June 5, 2022</td>\n",
       "      <td>2 of 22</td>\n",
       "      <td>—</td>\n",
       "    </tr>\n",
       "    <tr>\n",
       "      <th>30</th>\n",
       "      <td>31</td>\n",
       "      <td>Australia</td>\n",
       "      <td>Asia</td>\n",
       "      <td>June 13, 2022</td>\n",
       "      <td>6 of 22</td>\n",
       "      <td>—</td>\n",
       "    </tr>\n",
       "    <tr>\n",
       "      <th>31</th>\n",
       "      <td>32</td>\n",
       "      <td>Costa Rica</td>\n",
       "      <td>N. America</td>\n",
       "      <td>June 14, 2022</td>\n",
       "      <td>6 of 22</td>\n",
       "      <td>—</td>\n",
       "    </tr>\n",
       "  </tbody>\n",
       "</table>\n",
       "</div>"
      ],
      "text/plain": [
       "    No.        Nation      Region Date qualified   WC apps Titles (Last)\n",
       "0     1        Qatar         Asia   Dec. 2, 2010   1 of 22             —\n",
       "1     2       Germany      Europe  Oct. 11, 2021  20 of 22      4 (2014)\n",
       "2     3       Denmark      Europe  Oct. 12, 2021   6 of 22             —\n",
       "3     4        Brazil  S. America  Nov. 11, 2021  22 of 22      5 (2002)\n",
       "4     5        France      Europe  Nov. 13, 2021  16 of 22      2 (2018)\n",
       "5     6       Belgium      Europe  Nov. 13, 2021  14 of 22             —\n",
       "6     7       Croatia      Europe  Nov. 14, 2021   6 of 22             —\n",
       "7     8         Spain      Europe  Nov. 14, 2021  16 of 22      1 (2010)\n",
       "8     9        Serbia      Europe  Nov. 14, 2021   4 of 22             —\n",
       "9    10       England      Europe  Nov. 15, 2021  16 of 22      1 (1966)\n",
       "10   11   Switzerland      Europe  Nov. 15, 2021  12 of 22             —\n",
       "11   12   Netherlands      Europe  Nov. 16, 2021  11 of 22             —\n",
       "12   13     Argentina  S. America  Nov. 16, 2021  18 of 22      2 (1986)\n",
       "13   14          Iran        Asia  Jan. 27, 2022   6 of 22             —\n",
       "14   15   South Korea        Asia   Feb. 1, 2022  11 of 22             —\n",
       "15   16         Japan        Asia  Mar. 24, 2022   7 of 22             —\n",
       "16   17  Saudi Arabia        Asia  Mar. 24, 2022   6 of 22             —\n",
       "17   18       Ecuador  S. America   Mar. 24 2022   4 of 22             —\n",
       "18   19       Uruguay  S. America  Mar. 24, 2022  14 of 22      2 (1950)\n",
       "19   20        Canada  N. America  Mar. 27, 2022   2 of 22             —\n",
       "20   21         Ghana      Africa  Mar. 29, 2022   4 of 22             —\n",
       "21   22       Senegal      Africa  Mar. 29, 2022   3 of 22             —\n",
       "22   23      Portugal      Europe  Mar. 29, 2022   8 of 22             —\n",
       "23   24        Poland      Europe  Mar. 29, 2022   9 of 22             —\n",
       "24   25       Tunisia      Africa  Mar. 29, 2022   6 of 22             —\n",
       "25   26       Morocco      Africa  Mar. 29, 2022   6 of 22             —\n",
       "26   27      Cameroon      Africa  Mar. 29, 2022   8 of 22             —\n",
       "27   28           USA  N. America  Mar. 30, 2022  11 of 22             —\n",
       "28   29        Mexico  N. America  Mar. 30, 2022  17 of 22             —\n",
       "29   30         Wales      Europe   June 5, 2022   2 of 22             —\n",
       "30   31     Australia        Asia  June 13, 2022   6 of 22             —\n",
       "31   32    Costa Rica  N. America  June 14, 2022   6 of 22             —"
      ]
     },
     "execution_count": 2,
     "metadata": {},
     "output_type": "execute_result"
    }
   ],
   "source": [
    "df = pd.read_csv('2022 World Cup.csv')\n",
    "df"
   ]
  },
  {
   "cell_type": "markdown",
   "metadata": {},
   "source": [
    "Create list of all region, each region contain qualified countries from this region"
   ]
  },
  {
   "cell_type": "code",
   "execution_count": 3,
   "metadata": {},
   "outputs": [
    {
     "data": {
      "text/plain": [
       "['Germany',\n",
       " 'Denmark',\n",
       " 'France',\n",
       " 'Belgium',\n",
       " 'Croatia',\n",
       " 'Spain',\n",
       " 'Serbia',\n",
       " 'England',\n",
       " 'Switzerland',\n",
       " 'Netherlands',\n",
       " 'Portugal',\n",
       " 'Poland',\n",
       " 'Wales']"
      ]
     },
     "execution_count": 3,
     "metadata": {},
     "output_type": "execute_result"
    }
   ],
   "source": [
    "Europe = df[df['Region'] == 'Europe'].Nation\n",
    "Europe = list(Europe)\n",
    "Europe"
   ]
  },
  {
   "cell_type": "code",
   "execution_count": 4,
   "metadata": {},
   "outputs": [
    {
     "data": {
      "text/plain": [
       "['Qatar ', 'Iran', 'South Korea', 'Japan', 'Saudi Arabia', 'Australia']"
      ]
     },
     "execution_count": 4,
     "metadata": {},
     "output_type": "execute_result"
    }
   ],
   "source": [
    "Asia = df[df['Region'] == 'Asia'].Nation\n",
    "Asia = list(Asia)\n",
    "Asia"
   ]
  },
  {
   "cell_type": "code",
   "execution_count": 5,
   "metadata": {},
   "outputs": [
    {
     "data": {
      "text/plain": [
       "['Ghana', 'Senegal', 'Tunisia', 'Morocco', 'Cameroon']"
      ]
     },
     "execution_count": 5,
     "metadata": {},
     "output_type": "execute_result"
    }
   ],
   "source": [
    "Africa = df[df['Region'] == 'Africa'].Nation\n",
    "Africa = list(Africa)\n",
    "Africa"
   ]
  },
  {
   "cell_type": "code",
   "execution_count": 6,
   "metadata": {},
   "outputs": [
    {
     "data": {
      "text/plain": [
       "['Brazil', 'Argentina', 'Ecuador', 'Uruguay']"
      ]
     },
     "execution_count": 6,
     "metadata": {},
     "output_type": "execute_result"
    }
   ],
   "source": [
    "SouthAmerica = df[df['Region'] == 'S. America'].Nation\n",
    "SouthAmerica = list(SouthAmerica)\n",
    "SouthAmerica"
   ]
  },
  {
   "cell_type": "code",
   "execution_count": 7,
   "metadata": {},
   "outputs": [
    {
     "data": {
      "text/plain": [
       "['Canada', 'USA', 'Mexico', 'Costa Rica']"
      ]
     },
     "execution_count": 7,
     "metadata": {},
     "output_type": "execute_result"
    }
   ],
   "source": [
    "NorthAmerica = df[df['Region'] == 'N. America'].Nation\n",
    "NorthAmerica = list(NorthAmerica)\n",
    "NorthAmerica"
   ]
  },
  {
   "cell_type": "markdown",
   "metadata": {},
   "source": [
    "Create 8 groups, each group contains 4 teams"
   ]
  },
  {
   "cell_type": "code",
   "execution_count": 8,
   "metadata": {},
   "outputs": [],
   "source": [
    "pot1 = ['Qatar', 'Brazil', 'Belgium', 'France', 'Argentina', 'England', 'Spain', 'Portugal']\n",
    "pot2 = ['Netherlands', 'Germany', 'Mexico', 'USA', 'Switzerland', 'Denmark', 'Croatia', 'Uruguay']\n",
    "pot3 = ['Senegal', 'Iran', 'Japan', 'Morocco', 'Serbia', 'Poland', 'South Korea', 'Tunisia']\n",
    "pot4 = ['Cameroon', 'Canada', 'Ecuador', 'Ghana', 'Saudi Arabia', 'Wales', 'Australia', 'Costa Rica']\n",
    "\n"
   ]
  },
  {
   "cell_type": "code",
   "execution_count": 9,
   "metadata": {},
   "outputs": [],
   "source": [
    "g1=[]\n",
    "g2=[]\n",
    "g3=[]\n",
    "g4=[]\n",
    "g5=[]\n",
    "g6=[]\n",
    "g7=[]\n",
    "g8=[]\n",
    "\n"
   ]
  },
  {
   "cell_type": "code",
   "execution_count": 10,
   "metadata": {},
   "outputs": [],
   "source": [
    "pot1 = random.sample(pot1,8)\n",
    "\n",
    "g1.append(pot1[0])\n",
    "g2.append(pot1[1])\n",
    "g3.append(pot1[2])\n",
    "g4.append(pot1[3])\n",
    "g5.append(pot1[4])\n",
    "g6.append(pot1[5])\n",
    "g7.append(pot1[6])\n",
    "g8.append(pot1[7])"
   ]
  },
  {
   "cell_type": "code",
   "execution_count": 11,
   "metadata": {},
   "outputs": [],
   "source": [
    "def num_commons(list1, list2):\n",
    "    n=0\n",
    "    for element in list1:\n",
    "        if element in list2:\n",
    "            n+=1\n",
    "\n",
    "    return n\n"
   ]
  },
  {
   "cell_type": "code",
   "execution_count": 12,
   "metadata": {},
   "outputs": [],
   "source": [
    "for __ in range(1000):\n",
    "    pot2 = random.sample(pot2,8)\n",
    "    g1.append(pot2[0])\n",
    "    g2.append(pot2[1])\n",
    "    g3.append(pot2[2])\n",
    "    g4.append(pot2[3])\n",
    "    g5.append(pot2[4])\n",
    "    g6.append(pot2[5])\n",
    "    g7.append(pot2[6])\n",
    "    g8.append(pot2[7])\n",
    "\n",
    "    if num_commons(g1, SouthAmerica) >1:\n",
    "        g1.pop()\n",
    "        g2.pop()\n",
    "        g3.pop()\n",
    "        g4.pop()\n",
    "        g5.pop()\n",
    "        g6.pop()\n",
    "        g7.pop()\n",
    "        g8.pop()\n",
    "        continue\n",
    "\n",
    "    if num_commons(g2, SouthAmerica) >1:\n",
    "        g1.pop()\n",
    "        g2.pop()\n",
    "        g3.pop()\n",
    "        g4.pop()\n",
    "        g5.pop()\n",
    "        g6.pop()\n",
    "        g7.pop()\n",
    "        g8.pop()\n",
    "        continue        \n",
    "        \n",
    "    if num_commons(g3, SouthAmerica) >1:\n",
    "        g1.pop()\n",
    "        g2.pop()\n",
    "        g3.pop()\n",
    "        g4.pop()\n",
    "        g5.pop()\n",
    "        g6.pop()\n",
    "        g7.pop()\n",
    "        g8.pop()\n",
    "        continue        \n",
    "        \n",
    "    if num_commons(g4, SouthAmerica) >1:\n",
    "        g1.pop()\n",
    "        g2.pop()\n",
    "        g3.pop()\n",
    "        g4.pop()\n",
    "        g5.pop()\n",
    "        g6.pop()\n",
    "        g7.pop()\n",
    "        g8.pop()\n",
    "        continue        \n",
    "    break\n"
   ]
  },
  {
   "cell_type": "code",
   "execution_count": 13,
   "metadata": {},
   "outputs": [
    {
     "name": "stdout",
     "output_type": "stream",
     "text": [
      "['England', 'Uruguay', 'Japan']\n",
      "1\n"
     ]
    }
   ],
   "source": [
    "for __ in range(1000):\n",
    "    g1.append(random.sample(pot3,1)[0])\n",
    "    print(g1)\n",
    "    print(num_commons(g1,Europe))\n",
    "    if num_commons(g1,Europe) > 2:\n",
    "        g1.pop()\n",
    "        continue\n",
    "\n",
    "    if num_commons(g1,Asia)>1:\n",
    "        g1.pop()\n",
    "        continue\n",
    "\n",
    "    if num_commons(g1,SouthAmerica)>1:\n",
    "        g1.pop()\n",
    "        continue\n",
    "\n",
    "    if num_commons(g1,NorthAmerica)>1:\n",
    "        g1.pop()\n",
    "        continue\n",
    "    \n",
    "    break\n",
    "\n",
    "pot3.remove(str(g1[-1]))\n",
    "\n",
    "\n"
   ]
  },
  {
   "cell_type": "code",
   "execution_count": 14,
   "metadata": {},
   "outputs": [
    {
     "name": "stdout",
     "output_type": "stream",
     "text": [
      "['Portugal', 'Switzerland', 'Tunisia']\n",
      "2\n"
     ]
    }
   ],
   "source": [
    "for __ in range(1000):\n",
    "    g2.append(random.sample(pot3,1)[0])\n",
    "    print(g2)\n",
    "    print(num_commons(g2,Europe))\n",
    "    if num_commons(g2,Europe) > 2:\n",
    "        g2.pop()\n",
    "        continue\n",
    "\n",
    "    if num_commons(g2,Asia)>1:\n",
    "        g2.pop()\n",
    "        continue\n",
    "\n",
    "    if num_commons(g2,SouthAmerica)>1:\n",
    "        g2.pop()\n",
    "        continue\n",
    "\n",
    "    if num_commons(g2,NorthAmerica)>1:\n",
    "        g2.pop()\n",
    "        continue\n",
    "    \n",
    "    break\n",
    "\n",
    "pot3.remove(str(g2[-1]))\n"
   ]
  },
  {
   "cell_type": "code",
   "execution_count": 15,
   "metadata": {},
   "outputs": [
    {
     "name": "stdout",
     "output_type": "stream",
     "text": [
      "['Spain', 'Denmark', 'Iran']\n",
      "2\n"
     ]
    }
   ],
   "source": [
    "for __ in range(1000):\n",
    "    g3.append(random.sample(pot3,1)[0])\n",
    "    print(g3)\n",
    "    print(num_commons(g3,Europe))\n",
    "    if num_commons(g3,Europe) > 2:\n",
    "        g3.pop()\n",
    "        continue\n",
    "\n",
    "    if num_commons(g3,Asia)>1:\n",
    "        g3.pop()\n",
    "        continue\n",
    "\n",
    "    if num_commons(g3,SouthAmerica)>1:\n",
    "        g3.pop()\n",
    "        continue\n",
    "\n",
    "    if num_commons(g3,NorthAmerica)>1:\n",
    "        g3.pop()\n",
    "        continue\n",
    "    \n",
    "    break\n",
    "\n",
    "pot3.remove(str(g3[-1]))"
   ]
  },
  {
   "cell_type": "code",
   "execution_count": 16,
   "metadata": {},
   "outputs": [
    {
     "name": "stdout",
     "output_type": "stream",
     "text": [
      "['Belgium', 'USA', 'Senegal']\n",
      "1\n"
     ]
    }
   ],
   "source": [
    "for __ in range(1000):\n",
    "    g4.append(random.sample(pot3,1)[0])\n",
    "    print(g4)\n",
    "    print(num_commons(g4,Europe))\n",
    "    if num_commons(g4,Europe) > 2:\n",
    "        g4.pop()\n",
    "        continue\n",
    "\n",
    "    if num_commons(g4,Asia)>1:\n",
    "        g4.pop()\n",
    "        continue\n",
    "\n",
    "    if num_commons(g4,SouthAmerica)>1:\n",
    "        g4.pop()\n",
    "        continue\n",
    "\n",
    "    if num_commons(g4,NorthAmerica)>1:\n",
    "        g4.pop()\n",
    "        continue\n",
    "    \n",
    "    break\n",
    "\n",
    "pot3.remove(str(g4[-1]))"
   ]
  },
  {
   "cell_type": "code",
   "execution_count": 17,
   "metadata": {},
   "outputs": [
    {
     "name": "stdout",
     "output_type": "stream",
     "text": [
      "['France', 'Mexico', 'Poland']\n",
      "2\n"
     ]
    }
   ],
   "source": [
    "for __ in range(1000):\n",
    "    g5.append(random.sample(pot3,1)[0])\n",
    "    print(g5)\n",
    "    print(num_commons(g5,Europe))\n",
    "    if num_commons(g5,Europe) > 2:\n",
    "        g5.pop()\n",
    "        continue\n",
    "\n",
    "    if num_commons(g5,Asia)>1:\n",
    "        g5.pop()\n",
    "        continue\n",
    "\n",
    "    if num_commons(g5,SouthAmerica)>1:\n",
    "        g5.pop()\n",
    "        continue\n",
    "\n",
    "    if num_commons(g5,NorthAmerica)>1:\n",
    "        g5.pop()\n",
    "        continue\n",
    "    \n",
    "    break\n",
    "\n",
    "pot3.remove(str(g5[-1]))"
   ]
  },
  {
   "cell_type": "code",
   "execution_count": 18,
   "metadata": {},
   "outputs": [
    {
     "name": "stdout",
     "output_type": "stream",
     "text": [
      "['Qatar', 'Netherlands', 'Serbia']\n",
      "2\n"
     ]
    }
   ],
   "source": [
    "for __ in range(1000):\n",
    "    g6.append(random.sample(pot3,1)[0])\n",
    "    print(g6)\n",
    "    print(num_commons(g6,Europe))\n",
    "    if num_commons(g6,Europe) > 2:\n",
    "        g6.pop()\n",
    "        continue\n",
    "\n",
    "    if num_commons(g6,Asia)>1:\n",
    "        g6.pop()\n",
    "        continue\n",
    "\n",
    "    if num_commons(g6,SouthAmerica)>1:\n",
    "        g6.pop()\n",
    "        continue\n",
    "\n",
    "    if num_commons(g6,NorthAmerica)>1:\n",
    "        g6.pop()\n",
    "        continue\n",
    "    \n",
    "    break\n",
    "\n",
    "pot3.remove(str(g6[-1]))"
   ]
  },
  {
   "cell_type": "code",
   "execution_count": 19,
   "metadata": {},
   "outputs": [
    {
     "name": "stdout",
     "output_type": "stream",
     "text": [
      "['Argentina', 'Germany', 'South Korea']\n",
      "1\n"
     ]
    }
   ],
   "source": [
    "for __ in range(1000):\n",
    "    g7.append(random.sample(pot3,1)[0])\n",
    "    print(g7)\n",
    "    print(num_commons(g7,Europe))\n",
    "    if num_commons(g7,Europe) > 2:\n",
    "        g7.pop()\n",
    "        continue\n",
    "\n",
    "    if num_commons(g7,Asia)>1:\n",
    "        g7.pop()\n",
    "        continue\n",
    "\n",
    "    if num_commons(g7,SouthAmerica)>1:\n",
    "        g7.pop()\n",
    "        continue\n",
    "\n",
    "    if num_commons(g7,NorthAmerica)>1:\n",
    "        g7.pop()\n",
    "        continue\n",
    "    \n",
    "    break\n",
    "\n",
    "pot3.remove(str(g7[-1]))"
   ]
  },
  {
   "cell_type": "code",
   "execution_count": 20,
   "metadata": {},
   "outputs": [],
   "source": [
    "g8.append(pot3[0])"
   ]
  },
  {
   "cell_type": "code",
   "execution_count": null,
   "metadata": {},
   "outputs": [],
   "source": []
  },
  {
   "cell_type": "code",
   "execution_count": 21,
   "metadata": {},
   "outputs": [
    {
     "name": "stdout",
     "output_type": "stream",
     "text": [
      "['England', 'Uruguay', 'Japan', 'Ghana']\n",
      "1\n"
     ]
    }
   ],
   "source": [
    "for __ in range(1000):\n",
    "    g1.append(random.sample(pot4,1)[0])\n",
    "    print(g1)\n",
    "    print(num_commons(g1,Europe))\n",
    "    if num_commons(g1,Europe) > 2:\n",
    "        g1.pop()\n",
    "        continue\n",
    "\n",
    "    if num_commons(g1,Africa) > 1:\n",
    "        g1.pop()\n",
    "        continue\n",
    "\n",
    "    if num_commons(g1,Asia)>1:\n",
    "        g1.pop()\n",
    "        continue\n",
    "\n",
    "    if num_commons(g1,SouthAmerica)>1:\n",
    "        g1.pop()\n",
    "        continue\n",
    "\n",
    "    if num_commons(g1,NorthAmerica)>1:\n",
    "        g1.pop()\n",
    "        continue\n",
    "    \n",
    "    break\n",
    "\n",
    "pot4.remove(str(g1[-1]))"
   ]
  },
  {
   "cell_type": "code",
   "execution_count": 22,
   "metadata": {},
   "outputs": [
    {
     "name": "stdout",
     "output_type": "stream",
     "text": [
      "['Portugal', 'Switzerland', 'Tunisia', 'Cameroon']\n",
      "2\n",
      "['Portugal', 'Switzerland', 'Tunisia', 'Cameroon']\n",
      "2\n",
      "['Portugal', 'Switzerland', 'Tunisia', 'Canada']\n",
      "2\n"
     ]
    }
   ],
   "source": [
    "for __ in range(1000):\n",
    "    g2.append(random.sample(pot4,1)[0])\n",
    "    print(g2)\n",
    "    print(num_commons(g2,Europe))\n",
    "    if num_commons(g2,Europe) > 2:\n",
    "        g2.pop()\n",
    "        continue\n",
    "\n",
    "    if num_commons(g2,Africa) > 1:\n",
    "        g2.pop()\n",
    "        continue\n",
    "\n",
    "    if num_commons(g2,Asia)>1:\n",
    "        g2.pop()\n",
    "        continue\n",
    "\n",
    "    if num_commons(g2,SouthAmerica)>1:\n",
    "        g2.pop()\n",
    "        continue\n",
    "\n",
    "    if num_commons(g2,NorthAmerica)>1:\n",
    "        g2.pop()\n",
    "        continue\n",
    "    \n",
    "    break\n",
    "\n",
    "pot4.remove(str(g2[-1]))"
   ]
  },
  {
   "cell_type": "code",
   "execution_count": 23,
   "metadata": {},
   "outputs": [
    {
     "name": "stdout",
     "output_type": "stream",
     "text": [
      "['Spain', 'Denmark', 'Iran', 'Saudi Arabia']\n",
      "2\n",
      "['Spain', 'Denmark', 'Iran', 'Cameroon']\n",
      "2\n"
     ]
    }
   ],
   "source": [
    "for __ in range(1000):\n",
    "    g3.append(random.sample(pot4,1)[0])\n",
    "    print(g3)\n",
    "    print(num_commons(g3,Europe))\n",
    "    if num_commons(g3,Europe) > 2:\n",
    "        g3.pop()\n",
    "        continue\n",
    "\n",
    "    if num_commons(g3,Africa) > 1:\n",
    "        g3.pop()\n",
    "        continue\n",
    "\n",
    "    if num_commons(g3,Asia)>1:\n",
    "        g3.pop()\n",
    "        continue\n",
    "\n",
    "    if num_commons(g3,SouthAmerica)>1:\n",
    "        g3.pop()\n",
    "        continue\n",
    "\n",
    "    if num_commons(g3,NorthAmerica)>1:\n",
    "        g3.pop()\n",
    "        continue\n",
    "    \n",
    "    break\n",
    "\n",
    "pot4.remove(str(g3[-1]))"
   ]
  },
  {
   "cell_type": "code",
   "execution_count": 24,
   "metadata": {},
   "outputs": [
    {
     "name": "stdout",
     "output_type": "stream",
     "text": [
      "['Belgium', 'USA', 'Senegal', 'Costa Rica']\n",
      "1\n",
      "['Belgium', 'USA', 'Senegal', 'Saudi Arabia']\n",
      "1\n"
     ]
    }
   ],
   "source": [
    "for __ in range(1000):\n",
    "    g4.append(random.sample(pot4,1)[0])\n",
    "    print(g4)\n",
    "    print(num_commons(g4,Europe))\n",
    "    if num_commons(g4,Europe) > 2:\n",
    "        g4.pop()\n",
    "        continue\n",
    "\n",
    "    if num_commons(g4,Africa) > 1:\n",
    "        g4.pop()\n",
    "        continue\n",
    "\n",
    "    if num_commons(g4,Asia)>1:\n",
    "        g4.pop()\n",
    "        continue\n",
    "\n",
    "    if num_commons(g4,SouthAmerica)>1:\n",
    "        g4.pop()\n",
    "        continue\n",
    "\n",
    "    if num_commons(g4,NorthAmerica)>1:\n",
    "        g4.pop()\n",
    "        continue\n",
    "    \n",
    "    break\n",
    "\n",
    "pot4.remove(str(g4[-1]))"
   ]
  },
  {
   "cell_type": "code",
   "execution_count": 25,
   "metadata": {},
   "outputs": [
    {
     "name": "stdout",
     "output_type": "stream",
     "text": [
      "['France', 'Mexico', 'Poland', 'Wales']\n",
      "3\n",
      "['France', 'Mexico', 'Poland', 'Australia']\n",
      "2\n"
     ]
    }
   ],
   "source": [
    "for __ in range(1000):\n",
    "    g5.append(random.sample(pot4,1)[0])\n",
    "    print(g5)\n",
    "    print(num_commons(g5,Europe))\n",
    "    if num_commons(g5,Europe) > 2:\n",
    "        g5.pop()\n",
    "        continue\n",
    "\n",
    "    if num_commons(g5,Africa) > 1:\n",
    "        g5.pop()\n",
    "        continue\n",
    "\n",
    "    if num_commons(g5,Asia)>1:\n",
    "        g5.pop()\n",
    "        continue\n",
    "\n",
    "    if num_commons(g5,SouthAmerica)>1:\n",
    "        g5.pop()\n",
    "        continue\n",
    "\n",
    "    if num_commons(g5,NorthAmerica)>1:\n",
    "        g5.pop()\n",
    "        continue\n",
    "    \n",
    "    break\n",
    "\n",
    "pot4.remove(str(g5[-1]))"
   ]
  },
  {
   "cell_type": "code",
   "execution_count": 26,
   "metadata": {},
   "outputs": [
    {
     "name": "stdout",
     "output_type": "stream",
     "text": [
      "['Qatar', 'Netherlands', 'Serbia', 'Costa Rica']\n",
      "2\n"
     ]
    }
   ],
   "source": [
    "for __ in range(1000):\n",
    "    g6.append(random.sample(pot4,1)[0])\n",
    "    print(g6)\n",
    "    print(num_commons(g6,Europe))\n",
    "    if num_commons(g6,Europe) > 2:\n",
    "        g6.pop()\n",
    "        continue\n",
    "\n",
    "    if num_commons(g6,Africa) > 1:\n",
    "        g6.pop()\n",
    "        continue\n",
    "\n",
    "    if num_commons(g6,Asia)>1:\n",
    "        g6.pop()\n",
    "        continue\n",
    "\n",
    "    if num_commons(g6,SouthAmerica)>1:\n",
    "        g6.pop()\n",
    "        continue\n",
    "\n",
    "    if num_commons(g6,NorthAmerica)>1:\n",
    "        g6.pop()\n",
    "        continue\n",
    "    \n",
    "    break\n",
    "\n",
    "pot4.remove(str(g6[-1]))"
   ]
  },
  {
   "cell_type": "code",
   "execution_count": 27,
   "metadata": {},
   "outputs": [
    {
     "name": "stdout",
     "output_type": "stream",
     "text": [
      "['Argentina', 'Germany', 'South Korea', 'Ecuador']\n",
      "1\n",
      "['Argentina', 'Germany', 'South Korea', 'Wales']\n",
      "2\n"
     ]
    }
   ],
   "source": [
    "for __ in range(1000):\n",
    "    g7.append(random.sample(pot4,1)[0])\n",
    "    print(g7)\n",
    "    print(num_commons(g7,Europe))\n",
    "    if num_commons(g7,Europe) > 2:\n",
    "        g7.pop()\n",
    "        continue\n",
    "\n",
    "    if num_commons(g7,Africa) > 1:\n",
    "        g7.pop()\n",
    "        continue\n",
    "\n",
    "    if num_commons(g7,Asia)>1:\n",
    "        g7.pop()\n",
    "        continue\n",
    "\n",
    "    if num_commons(g7,SouthAmerica)>1:\n",
    "        g7.pop()\n",
    "        continue\n",
    "\n",
    "    if num_commons(g7,NorthAmerica)>1:\n",
    "        g7.pop()\n",
    "        continue\n",
    "    \n",
    "    break\n",
    "\n",
    "pot4.remove(str(g7[-1]))"
   ]
  },
  {
   "cell_type": "code",
   "execution_count": 28,
   "metadata": {},
   "outputs": [],
   "source": [
    "g8.append(pot4[0])"
   ]
  },
  {
   "cell_type": "code",
   "execution_count": 29,
   "metadata": {},
   "outputs": [
    {
     "name": "stdout",
     "output_type": "stream",
     "text": [
      "['England', 'Uruguay', 'Japan', 'Ghana']\n",
      "['Portugal', 'Switzerland', 'Tunisia', 'Canada']\n",
      "['Spain', 'Denmark', 'Iran', 'Cameroon']\n",
      "['Belgium', 'USA', 'Senegal', 'Saudi Arabia']\n",
      "['France', 'Mexico', 'Poland', 'Australia']\n",
      "['Qatar', 'Netherlands', 'Serbia', 'Costa Rica']\n",
      "['Argentina', 'Germany', 'South Korea', 'Wales']\n",
      "['Brazil', 'Croatia', 'Morocco', 'Ecuador']\n"
     ]
    }
   ],
   "source": [
    "print(g1)\n",
    "print(g2)\n",
    "print(g3)\n",
    "print(g4)\n",
    "print(g5)\n",
    "print(g6)\n",
    "print(g7)\n",
    "print(g8)\n"
   ]
  },
  {
   "cell_type": "code",
   "execution_count": 30,
   "metadata": {},
   "outputs": [
    {
     "data": {
      "text/html": [
       "<div>\n",
       "<style scoped>\n",
       "    .dataframe tbody tr th:only-of-type {\n",
       "        vertical-align: middle;\n",
       "    }\n",
       "\n",
       "    .dataframe tbody tr th {\n",
       "        vertical-align: top;\n",
       "    }\n",
       "\n",
       "    .dataframe thead th {\n",
       "        text-align: right;\n",
       "    }\n",
       "</style>\n",
       "<table border=\"1\" class=\"dataframe\">\n",
       "  <thead>\n",
       "    <tr style=\"text-align: right;\">\n",
       "      <th></th>\n",
       "      <th>Group A</th>\n",
       "      <th>Group B</th>\n",
       "      <th>Group C</th>\n",
       "      <th>Group D</th>\n",
       "      <th>Group E</th>\n",
       "      <th>Group F</th>\n",
       "      <th>Group G</th>\n",
       "      <th>Group H</th>\n",
       "    </tr>\n",
       "  </thead>\n",
       "  <tbody>\n",
       "    <tr>\n",
       "      <th>0</th>\n",
       "      <td>England</td>\n",
       "      <td>Portugal</td>\n",
       "      <td>Spain</td>\n",
       "      <td>Belgium</td>\n",
       "      <td>France</td>\n",
       "      <td>Qatar</td>\n",
       "      <td>Argentina</td>\n",
       "      <td>Brazil</td>\n",
       "    </tr>\n",
       "    <tr>\n",
       "      <th>1</th>\n",
       "      <td>Uruguay</td>\n",
       "      <td>Switzerland</td>\n",
       "      <td>Denmark</td>\n",
       "      <td>USA</td>\n",
       "      <td>Mexico</td>\n",
       "      <td>Netherlands</td>\n",
       "      <td>Germany</td>\n",
       "      <td>Croatia</td>\n",
       "    </tr>\n",
       "    <tr>\n",
       "      <th>2</th>\n",
       "      <td>Japan</td>\n",
       "      <td>Tunisia</td>\n",
       "      <td>Iran</td>\n",
       "      <td>Senegal</td>\n",
       "      <td>Poland</td>\n",
       "      <td>Serbia</td>\n",
       "      <td>South Korea</td>\n",
       "      <td>Morocco</td>\n",
       "    </tr>\n",
       "    <tr>\n",
       "      <th>3</th>\n",
       "      <td>Ghana</td>\n",
       "      <td>Canada</td>\n",
       "      <td>Cameroon</td>\n",
       "      <td>Saudi Arabia</td>\n",
       "      <td>Australia</td>\n",
       "      <td>Costa Rica</td>\n",
       "      <td>Wales</td>\n",
       "      <td>Ecuador</td>\n",
       "    </tr>\n",
       "  </tbody>\n",
       "</table>\n",
       "</div>"
      ],
      "text/plain": [
       "   Group A      Group B   Group C       Group D    Group E      Group F  \\\n",
       "0  England     Portugal     Spain       Belgium     France        Qatar   \n",
       "1  Uruguay  Switzerland   Denmark           USA     Mexico  Netherlands   \n",
       "2    Japan      Tunisia      Iran       Senegal     Poland       Serbia   \n",
       "3    Ghana       Canada  Cameroon  Saudi Arabia  Australia   Costa Rica   \n",
       "\n",
       "       Group G  Group H  \n",
       "0    Argentina   Brazil  \n",
       "1      Germany  Croatia  \n",
       "2  South Korea  Morocco  \n",
       "3        Wales  Ecuador  "
      ]
     },
     "execution_count": 30,
     "metadata": {},
     "output_type": "execute_result"
    }
   ],
   "source": [
    "data = {'Group A':g1, 'Group B':g2, 'Group C':g3, 'Group D':g4, 'Group E':g5, 'Group F':g6, 'Group G':g7, 'Group H':g8}\n",
    "Groups = pd.DataFrame(data)\n",
    "Groups"
   ]
  },
  {
   "cell_type": "code",
   "execution_count": 31,
   "metadata": {},
   "outputs": [],
   "source": [
    "Groups.to_csv('output.csv')\n"
   ]
  }
 ],
 "metadata": {
  "kernelspec": {
   "display_name": "Python 3.10.5 64-bit",
   "language": "python",
   "name": "python3"
  },
  "language_info": {
   "codemirror_mode": {
    "name": "ipython",
    "version": 3
   },
   "file_extension": ".py",
   "mimetype": "text/x-python",
   "name": "python",
   "nbconvert_exporter": "python",
   "pygments_lexer": "ipython3",
   "version": "3.10.5"
  },
  "orig_nbformat": 4,
  "vscode": {
   "interpreter": {
    "hash": "82a9f30eca97479f9e0bcdf34e094686812eb001ef56033a9a73323e1120c6ad"
   }
  }
 },
 "nbformat": 4,
 "nbformat_minor": 2
}
